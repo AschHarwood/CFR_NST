{
 "cells": [
  {
   "cell_type": "code",
   "execution_count": 6,
   "metadata": {},
   "outputs": [],
   "source": [
    "import numpy as  np\n",
    "from keras.datasets import reuters\n",
    "from keras.utils.np_utils import to_categorical\n",
    "from keras.preprocessing.text import Tokenizer\n",
    "from keras import models\n",
    "from keras import layers"
   ]
  },
  {
   "cell_type": "code",
   "execution_count": 7,
   "metadata": {},
   "outputs": [],
   "source": [
    "np.random.seed(0)"
   ]
  },
  {
   "cell_type": "code",
   "execution_count": 8,
   "metadata": {
    "collapsed": true
   },
   "outputs": [],
   "source": [
    "num_of_features = 5000"
   ]
  },
  {
   "cell_type": "code",
   "execution_count": 9,
   "metadata": {},
   "outputs": [
    {
     "name": "stdout",
     "output_type": "stream",
     "text": [
      "Downloading data from https://s3.amazonaws.com/text-datasets/reuters.npz\n"
     ]
    }
   ],
   "source": [
    "data = reuters.load_data(num_words=num_of_features)"
   ]
  },
  {
   "cell_type": "code",
   "execution_count": 12,
   "metadata": {},
   "outputs": [],
   "source": [
    "(data_train, target_vector_train), (data_test, target_vector_test) = data"
   ]
  },
  {
   "cell_type": "code",
   "execution_count": 14,
   "metadata": {},
   "outputs": [],
   "source": [
    "tokenizer = Tokenizer(num_words = num_of_features)"
   ]
  },
  {
   "cell_type": "code",
   "execution_count": 15,
   "metadata": {},
   "outputs": [],
   "source": [
    "features_train = tokenizer.sequences_to_matrix(data_train, mode='binary')\n",
    "features_test = tokenizer.sequences_to_matrix(data_test, mode='binary')"
   ]
  },
  {
   "cell_type": "code",
   "execution_count": 16,
   "metadata": {
    "collapsed": true
   },
   "outputs": [],
   "source": [
    "target_train = to_categorical(target_vector_train)\n",
    "target_test = to_categorical(target_vector_test)"
   ]
  },
  {
   "cell_type": "code",
   "execution_count": 17,
   "metadata": {
    "collapsed": true
   },
   "outputs": [],
   "source": [
    "network = models.Sequential()"
   ]
  },
  {
   "cell_type": "code",
   "execution_count": 21,
   "metadata": {},
   "outputs": [],
   "source": [
    "network.add(layers.Dense(units=100, activation=\"relu\", input_shape=(num_of_features,)))"
   ]
  },
  {
   "cell_type": "code",
   "execution_count": 22,
   "metadata": {
    "collapsed": true
   },
   "outputs": [],
   "source": [
    "network.add(layers.Dense(units=46, activation='softmax'))"
   ]
  },
  {
   "cell_type": "code",
   "execution_count": 24,
   "metadata": {},
   "outputs": [],
   "source": [
    "network.compile(loss='categorical_crossentropy', \n",
    "                optimizer='rmsprop', \n",
    "                metrics=['accuracy'])"
   ]
  },
  {
   "cell_type": "code",
   "execution_count": 27,
   "metadata": {
    "collapsed": true
   },
   "outputs": [],
   "source": [
    "history = network.fit(features_train,\n",
    "                     target_train,\n",
    "                     epochs=3,\n",
    "                     verbose=0,\n",
    "                     batch_size=100,\n",
    "                    validation_data=(features_test, target_test))"
   ]
  },
  {
   "cell_type": "code",
   "execution_count": 32,
   "metadata": {},
   "outputs": [],
   "source": [
    "predicted_target = network.predict(features_test)"
   ]
  },
  {
   "cell_type": "code",
   "execution_count": 34,
   "metadata": {},
   "outputs": [],
   "source": [
    "from sklearn.metrics import accuracy_score, precision_score, recall_score, f1_score"
   ]
  },
  {
   "cell_type": "code",
   "execution_count": 38,
   "metadata": {},
   "outputs": [
    {
     "data": {
      "text/plain": [
       "array([  8.47859017e-04,   2.31100991e-03,   4.20292818e-05,\n",
       "         5.00459428e-05,   4.06430656e-04,   4.70834959e-04,\n",
       "         1.70835501e-05,   1.97240774e-06,   1.08465983e-05,\n",
       "         7.06461200e-04,   9.85630929e-01,   4.08525011e-05,\n",
       "         4.98285845e-05,   7.94321459e-05,   1.87551440e-03,\n",
       "         6.55901385e-05,   3.58074694e-03,   1.44674414e-06,\n",
       "         1.16978816e-04,   9.15455865e-04,   1.14641764e-04,\n",
       "         4.16155956e-07,   9.80110854e-05,   3.24116350e-04,\n",
       "         1.79199516e-04,   3.91355843e-06,   4.26123779e-06,\n",
       "         4.35413560e-04,   4.40082280e-04,   8.75013211e-06,\n",
       "         1.17552909e-05,   2.91434029e-04,   2.94185971e-04,\n",
       "         4.01933539e-06,   1.16203273e-06,   1.14897216e-06,\n",
       "         6.96702455e-06,   5.48322023e-05,   5.06919878e-06,\n",
       "         3.03418947e-05,   1.65572983e-05,   4.02649865e-04,\n",
       "         3.79872399e-05,   3.16026103e-07,   3.90112945e-07,\n",
       "         1.12466587e-05], dtype=float32)"
      ]
     },
     "execution_count": 38,
     "metadata": {},
     "output_type": "execute_result"
    }
   ],
   "source": [
    "predicted_target[1]"
   ]
  },
  {
   "cell_type": "code",
   "execution_count": 39,
   "metadata": {},
   "outputs": [
    {
     "data": {
      "text/plain": [
       "{'acc': [0.92061901875578511, 0.93676241695469453, 0.94477844680239542],\n",
       " 'loss': [0.36974365819113686, 0.28155742421749574, 0.22993044108583729],\n",
       " 'val_acc': [0.80899376632481523, 0.80365093175789548, 0.80498663543699478],\n",
       " 'val_loss': [0.84222513867188864, 0.86428551056081449, 0.90365534612141007]}"
      ]
     },
     "execution_count": 39,
     "metadata": {},
     "output_type": "execute_result"
    }
   ],
   "source": [
    "history.history"
   ]
  },
  {
   "cell_type": "code",
   "execution_count": 41,
   "metadata": {},
   "outputs": [
    {
     "data": {
      "text/plain": [
       "array([[ 0.,  1.,  1., ...,  0.,  0.,  0.],\n",
       "       [ 0.,  1.,  1., ...,  0.,  0.,  0.],\n",
       "       [ 0.,  1.,  1., ...,  0.,  0.,  0.],\n",
       "       ..., \n",
       "       [ 0.,  1.,  1., ...,  0.,  0.,  0.],\n",
       "       [ 0.,  1.,  1., ...,  0.,  0.,  0.],\n",
       "       [ 0.,  1.,  1., ...,  0.,  0.,  0.]])"
      ]
     },
     "execution_count": 41,
     "metadata": {},
     "output_type": "execute_result"
    }
   ],
   "source": [
    "history.validation_data[0]"
   ]
  },
  {
   "cell_type": "code",
   "execution_count": 42,
   "metadata": {
    "collapsed": true
   },
   "outputs": [],
   "source": [
    "from keras.datasets import imdb\n",
    "from keras.preprocessing import sequence\n",
    "\n"
   ]
  },
  {
   "cell_type": "code",
   "execution_count": 44,
   "metadata": {},
   "outputs": [],
   "source": [
    "number_of_features = 1000\n",
    "(data_train, target_train), (data_test, target_test) = imdb.load_data(num_words=number_of_features)\n",
    "features_train = sequence.pad_sequences(data_train, maxlen=400)\n",
    "features_test = sequence.pad_sequences(data_test, maxlen=400)\n",
    "network = models.Sequential()\n",
    "network.add(layers.Embedding(input_dim=number_of_features, output_dim=128))\n",
    "network.add(layers.LSTM(units=128))\n",
    "network.add(layers.Dense(units=1, activation='sigmoid'))\n",
    "network.compile(loss='binary_crossentropy', optimizer='Adam', metrics=['accuracy'])"
   ]
  },
  {
   "cell_type": "code",
   "execution_count": 45,
   "metadata": {},
   "outputs": [
    {
     "name": "stdout",
     "output_type": "stream",
     "text": [
      "Train on 25000 samples, validate on 25000 samples\n",
      "Epoch 1/3\n",
      "25000/25000 [==============================] - 1037s - loss: 0.6969 - acc: 0.6276 - val_loss: 0.6551 - val_acc: 0.6623\n",
      "Epoch 2/3\n",
      "25000/25000 [==============================] - 1095s - loss: 0.6489 - acc: 0.6739 - val_loss: 0.6396 - val_acc: 0.6752\n",
      "Epoch 3/3\n",
      "25000/25000 [==============================] - 1138s - loss: 0.6121 - acc: 0.7101 - val_loss: 0.5713 - val_acc: 0.7301\n"
     ]
    }
   ],
   "source": [
    "history = network.fit(features_train, target_train, epochs=3, verbose=1, batch_size=1000, validation_data=(features_test, \n",
    "                                                                                                           target_test,\n",
    "                                                                                                          ))"
   ]
  },
  {
   "cell_type": "code",
   "execution_count": 46,
   "metadata": {},
   "outputs": [
    {
     "data": {
      "text/plain": [
       "{'acc': [0.62755999684333796, 0.67387999773025509, 0.71007999897003171],\n",
       " 'loss': [0.69692183256149287, 0.64885594606399533, 0.61210342645645144],\n",
       " 'val_acc': [0.6623199939727783, 0.67515999555587769, 0.73012000083923345],\n",
       " 'val_loss': [0.65511720895767211, 0.63960392475128169, 0.57129962444305415]}"
      ]
     },
     "execution_count": 46,
     "metadata": {},
     "output_type": "execute_result"
    }
   ],
   "source": [
    "history.history"
   ]
  },
  {
   "cell_type": "code",
   "execution_count": null,
   "metadata": {
    "collapsed": true
   },
   "outputs": [],
   "source": []
  }
 ],
 "metadata": {
  "kernelspec": {
   "display_name": "Python 3",
   "language": "python",
   "name": "python3"
  },
  "language_info": {
   "codemirror_mode": {
    "name": "ipython",
    "version": 3
   },
   "file_extension": ".py",
   "mimetype": "text/x-python",
   "name": "python",
   "nbconvert_exporter": "python",
   "pygments_lexer": "ipython3",
   "version": "3.6.0"
  }
 },
 "nbformat": 4,
 "nbformat_minor": 2
}
