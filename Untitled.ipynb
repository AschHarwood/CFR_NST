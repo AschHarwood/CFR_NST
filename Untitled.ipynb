{
 "cells": [
  {
   "cell_type": "code",
   "execution_count": 1,
   "metadata": {
    "collapsed": true
   },
   "outputs": [],
   "source": [
    "import pandas as pd\n",
    "from sklearn.model_selection import train_test_split\n",
    "from sklearn.feature_extraction.text import CountVectorizer\n",
    "from sklearn.linear_model import LogisticRegression\n",
    "from sklearn.metrics import roc_auc_score\n",
    "from sklearn.metrics import classification_report\n",
    "from sklearn.metrics import accuracy_score, precision_score, recall_score, f1_score\n",
    "from sklearn.model_selection import KFold"
   ]
  },
  {
   "cell_type": "code",
   "execution_count": 2,
   "metadata": {
    "collapsed": true
   },
   "outputs": [],
   "source": [
    "df = pd.read_pickle('Complete_NST_Text.pkl')\n",
    "\n",
    "#cleans \\n slashes from text\n",
    "df['text'] = df['text'].replace(r'\\n', ' ', regex=True)\n",
    "\n",
    "#creates a list of states\n",
    "lga_list = list(df['LGA'].groupby(df['LGA']).count().index)\n",
    "\n",
    "#applies a number to each state\n",
    "lga_dict = {}\n",
    "for idx, lga in enumerate(lga_list):\n",
    "    lga_dict[lga] = idx\n",
    "\n",
    "#drops any rows where State = NA\n",
    "df = df.dropna(subset=['LGA'])\n",
    "\n",
    "#applies the code to each row\n",
    "df['lga_code'] = df['LGA'].apply(lambda x: lga_dict[x])"
   ]
  },
  {
   "cell_type": "code",
   "execution_count": 3,
   "metadata": {
    "collapsed": true
   },
   "outputs": [],
   "source": [
    "def log_reg(x,y):\n",
    "    X_train, X_test, y_train, y_test = train_test_split(x, y)\n",
    "    #creates a count vectorizer object\n",
    "    vect = CountVectorizer(stop_words='english', ngram_range=(2,4)).fit(X_train)\n",
    "\n",
    "    #uses vect object to create a sparse matrix\n",
    "    X_train_vectorized = vect.transform(X_train)\n",
    "\n",
    "    #creates and fits model\n",
    "    model = LogisticRegression(solver='newton-cg', multi_class='multinomial')\n",
    "    model.fit(X_train_vectorized, y_train)\n",
    "\n",
    "\n",
    "\n",
    "    predictions = model.predict(vect.transform(X_test))\n",
    "    return accuracy_score(predictions, y_test)"
   ]
  },
  {
   "cell_type": "code",
   "execution_count": null,
   "metadata": {
    "collapsed": true
   },
   "outputs": [],
   "source": [
    "log_reg(df['text'], df['lga_code'])"
   ]
  },
  {
   "cell_type": "code",
   "execution_count": null,
   "metadata": {
    "collapsed": true
   },
   "outputs": [],
   "source": []
  }
 ],
 "metadata": {
  "kernelspec": {
   "display_name": "Python 3",
   "language": "python",
   "name": "python3"
  },
  "language_info": {
   "codemirror_mode": {
    "name": "ipython",
    "version": 3
   },
   "file_extension": ".py",
   "mimetype": "text/x-python",
   "name": "python",
   "nbconvert_exporter": "python",
   "pygments_lexer": "ipython3",
   "version": "3.6.0"
  }
 },
 "nbformat": 4,
 "nbformat_minor": 2
}
